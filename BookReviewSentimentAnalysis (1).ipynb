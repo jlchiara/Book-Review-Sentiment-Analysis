{
  "nbformat": 4,
  "nbformat_minor": 0,
  "metadata": {
    "colab": {
      "provenance": []
    },
    "kernelspec": {
      "name": "python3",
      "display_name": "Python 3"
    },
    "language_info": {
      "name": "python"
    }
  },
  "cells": [
    {
      "cell_type": "code",
      "execution_count": 1,
      "metadata": {
        "id": "21Tx3regNHal"
      },
      "outputs": [],
      "source": [
        "import pandas as pd\n",
        "import numpy as np\n",
        "import os\n",
        "import matplotlib.pyplot as plt\n",
        "import seaborn as sns"
      ]
    },
    {
      "cell_type": "markdown",
      "source": [
        "## Loading the Dataset and Saving it as a Pandas DataFrame"
      ],
      "metadata": {
        "id": "3qAa24oBNyfS"
      }
    },
    {
      "cell_type": "code",
      "source": [
        "bookReviewDataSet_filename = os.path.join(os.getcwd(), \"bookReviews.csv\")\n",
        "df = pd.read_csv(bookReviewDataSet_filename, header=0)\n",
        "df.head(5)"
      ],
      "metadata": {
        "colab": {
          "base_uri": "https://localhost:8080/",
          "height": 206
        },
        "id": "Z9jRjkZFNPks",
        "outputId": "e1be34b8-a8fb-4e02-b625-0ebd6d442475"
      },
      "execution_count": 5,
      "outputs": [
        {
          "output_type": "execute_result",
          "data": {
            "text/plain": [
              "                                              Review  Positive Review\n",
              "0  This was perhaps the best of Johannes Steinhof...             True\n",
              "1  This very fascinating book is a story written ...             True\n",
              "2  The four tales in this collection are beautifu...             True\n",
              "3  The book contained more profanity than I expec...            False\n",
              "4  We have now entered a second time of deep conc...             True"
            ],
            "text/html": [
              "\n",
              "  <div id=\"df-07a26620-47eb-4f22-becd-4fb207efe8ff\" class=\"colab-df-container\">\n",
              "    <div>\n",
              "<style scoped>\n",
              "    .dataframe tbody tr th:only-of-type {\n",
              "        vertical-align: middle;\n",
              "    }\n",
              "\n",
              "    .dataframe tbody tr th {\n",
              "        vertical-align: top;\n",
              "    }\n",
              "\n",
              "    .dataframe thead th {\n",
              "        text-align: right;\n",
              "    }\n",
              "</style>\n",
              "<table border=\"1\" class=\"dataframe\">\n",
              "  <thead>\n",
              "    <tr style=\"text-align: right;\">\n",
              "      <th></th>\n",
              "      <th>Review</th>\n",
              "      <th>Positive Review</th>\n",
              "    </tr>\n",
              "  </thead>\n",
              "  <tbody>\n",
              "    <tr>\n",
              "      <th>0</th>\n",
              "      <td>This was perhaps the best of Johannes Steinhof...</td>\n",
              "      <td>True</td>\n",
              "    </tr>\n",
              "    <tr>\n",
              "      <th>1</th>\n",
              "      <td>This very fascinating book is a story written ...</td>\n",
              "      <td>True</td>\n",
              "    </tr>\n",
              "    <tr>\n",
              "      <th>2</th>\n",
              "      <td>The four tales in this collection are beautifu...</td>\n",
              "      <td>True</td>\n",
              "    </tr>\n",
              "    <tr>\n",
              "      <th>3</th>\n",
              "      <td>The book contained more profanity than I expec...</td>\n",
              "      <td>False</td>\n",
              "    </tr>\n",
              "    <tr>\n",
              "      <th>4</th>\n",
              "      <td>We have now entered a second time of deep conc...</td>\n",
              "      <td>True</td>\n",
              "    </tr>\n",
              "  </tbody>\n",
              "</table>\n",
              "</div>\n",
              "    <div class=\"colab-df-buttons\">\n",
              "\n",
              "  <div class=\"colab-df-container\">\n",
              "    <button class=\"colab-df-convert\" onclick=\"convertToInteractive('df-07a26620-47eb-4f22-becd-4fb207efe8ff')\"\n",
              "            title=\"Convert this dataframe to an interactive table.\"\n",
              "            style=\"display:none;\">\n",
              "\n",
              "  <svg xmlns=\"http://www.w3.org/2000/svg\" height=\"24px\" viewBox=\"0 -960 960 960\">\n",
              "    <path d=\"M120-120v-720h720v720H120Zm60-500h600v-160H180v160Zm220 220h160v-160H400v160Zm0 220h160v-160H400v160ZM180-400h160v-160H180v160Zm440 0h160v-160H620v160ZM180-180h160v-160H180v160Zm440 0h160v-160H620v160Z\"/>\n",
              "  </svg>\n",
              "    </button>\n",
              "\n",
              "  <style>\n",
              "    .colab-df-container {\n",
              "      display:flex;\n",
              "      gap: 12px;\n",
              "    }\n",
              "\n",
              "    .colab-df-convert {\n",
              "      background-color: #E8F0FE;\n",
              "      border: none;\n",
              "      border-radius: 50%;\n",
              "      cursor: pointer;\n",
              "      display: none;\n",
              "      fill: #1967D2;\n",
              "      height: 32px;\n",
              "      padding: 0 0 0 0;\n",
              "      width: 32px;\n",
              "    }\n",
              "\n",
              "    .colab-df-convert:hover {\n",
              "      background-color: #E2EBFA;\n",
              "      box-shadow: 0px 1px 2px rgba(60, 64, 67, 0.3), 0px 1px 3px 1px rgba(60, 64, 67, 0.15);\n",
              "      fill: #174EA6;\n",
              "    }\n",
              "\n",
              "    .colab-df-buttons div {\n",
              "      margin-bottom: 4px;\n",
              "    }\n",
              "\n",
              "    [theme=dark] .colab-df-convert {\n",
              "      background-color: #3B4455;\n",
              "      fill: #D2E3FC;\n",
              "    }\n",
              "\n",
              "    [theme=dark] .colab-df-convert:hover {\n",
              "      background-color: #434B5C;\n",
              "      box-shadow: 0px 1px 3px 1px rgba(0, 0, 0, 0.15);\n",
              "      filter: drop-shadow(0px 1px 2px rgba(0, 0, 0, 0.3));\n",
              "      fill: #FFFFFF;\n",
              "    }\n",
              "  </style>\n",
              "\n",
              "    <script>\n",
              "      const buttonEl =\n",
              "        document.querySelector('#df-07a26620-47eb-4f22-becd-4fb207efe8ff button.colab-df-convert');\n",
              "      buttonEl.style.display =\n",
              "        google.colab.kernel.accessAllowed ? 'block' : 'none';\n",
              "\n",
              "      async function convertToInteractive(key) {\n",
              "        const element = document.querySelector('#df-07a26620-47eb-4f22-becd-4fb207efe8ff');\n",
              "        const dataTable =\n",
              "          await google.colab.kernel.invokeFunction('convertToInteractive',\n",
              "                                                    [key], {});\n",
              "        if (!dataTable) return;\n",
              "\n",
              "        const docLinkHtml = 'Like what you see? Visit the ' +\n",
              "          '<a target=\"_blank\" href=https://colab.research.google.com/notebooks/data_table.ipynb>data table notebook</a>'\n",
              "          + ' to learn more about interactive tables.';\n",
              "        element.innerHTML = '';\n",
              "        dataTable['output_type'] = 'display_data';\n",
              "        await google.colab.output.renderOutput(dataTable, element);\n",
              "        const docLink = document.createElement('div');\n",
              "        docLink.innerHTML = docLinkHtml;\n",
              "        element.appendChild(docLink);\n",
              "      }\n",
              "    </script>\n",
              "  </div>\n",
              "\n",
              "\n",
              "<div id=\"df-dc86aab6-2ac2-4233-9ed8-812b8002cd3b\">\n",
              "  <button class=\"colab-df-quickchart\" onclick=\"quickchart('df-dc86aab6-2ac2-4233-9ed8-812b8002cd3b')\"\n",
              "            title=\"Suggest charts\"\n",
              "            style=\"display:none;\">\n",
              "\n",
              "<svg xmlns=\"http://www.w3.org/2000/svg\" height=\"24px\"viewBox=\"0 0 24 24\"\n",
              "     width=\"24px\">\n",
              "    <g>\n",
              "        <path d=\"M19 3H5c-1.1 0-2 .9-2 2v14c0 1.1.9 2 2 2h14c1.1 0 2-.9 2-2V5c0-1.1-.9-2-2-2zM9 17H7v-7h2v7zm4 0h-2V7h2v10zm4 0h-2v-4h2v4z\"/>\n",
              "    </g>\n",
              "</svg>\n",
              "  </button>\n",
              "\n",
              "<style>\n",
              "  .colab-df-quickchart {\n",
              "      --bg-color: #E8F0FE;\n",
              "      --fill-color: #1967D2;\n",
              "      --hover-bg-color: #E2EBFA;\n",
              "      --hover-fill-color: #174EA6;\n",
              "      --disabled-fill-color: #AAA;\n",
              "      --disabled-bg-color: #DDD;\n",
              "  }\n",
              "\n",
              "  [theme=dark] .colab-df-quickchart {\n",
              "      --bg-color: #3B4455;\n",
              "      --fill-color: #D2E3FC;\n",
              "      --hover-bg-color: #434B5C;\n",
              "      --hover-fill-color: #FFFFFF;\n",
              "      --disabled-bg-color: #3B4455;\n",
              "      --disabled-fill-color: #666;\n",
              "  }\n",
              "\n",
              "  .colab-df-quickchart {\n",
              "    background-color: var(--bg-color);\n",
              "    border: none;\n",
              "    border-radius: 50%;\n",
              "    cursor: pointer;\n",
              "    display: none;\n",
              "    fill: var(--fill-color);\n",
              "    height: 32px;\n",
              "    padding: 0;\n",
              "    width: 32px;\n",
              "  }\n",
              "\n",
              "  .colab-df-quickchart:hover {\n",
              "    background-color: var(--hover-bg-color);\n",
              "    box-shadow: 0 1px 2px rgba(60, 64, 67, 0.3), 0 1px 3px 1px rgba(60, 64, 67, 0.15);\n",
              "    fill: var(--button-hover-fill-color);\n",
              "  }\n",
              "\n",
              "  .colab-df-quickchart-complete:disabled,\n",
              "  .colab-df-quickchart-complete:disabled:hover {\n",
              "    background-color: var(--disabled-bg-color);\n",
              "    fill: var(--disabled-fill-color);\n",
              "    box-shadow: none;\n",
              "  }\n",
              "\n",
              "  .colab-df-spinner {\n",
              "    border: 2px solid var(--fill-color);\n",
              "    border-color: transparent;\n",
              "    border-bottom-color: var(--fill-color);\n",
              "    animation:\n",
              "      spin 1s steps(1) infinite;\n",
              "  }\n",
              "\n",
              "  @keyframes spin {\n",
              "    0% {\n",
              "      border-color: transparent;\n",
              "      border-bottom-color: var(--fill-color);\n",
              "      border-left-color: var(--fill-color);\n",
              "    }\n",
              "    20% {\n",
              "      border-color: transparent;\n",
              "      border-left-color: var(--fill-color);\n",
              "      border-top-color: var(--fill-color);\n",
              "    }\n",
              "    30% {\n",
              "      border-color: transparent;\n",
              "      border-left-color: var(--fill-color);\n",
              "      border-top-color: var(--fill-color);\n",
              "      border-right-color: var(--fill-color);\n",
              "    }\n",
              "    40% {\n",
              "      border-color: transparent;\n",
              "      border-right-color: var(--fill-color);\n",
              "      border-top-color: var(--fill-color);\n",
              "    }\n",
              "    60% {\n",
              "      border-color: transparent;\n",
              "      border-right-color: var(--fill-color);\n",
              "    }\n",
              "    80% {\n",
              "      border-color: transparent;\n",
              "      border-right-color: var(--fill-color);\n",
              "      border-bottom-color: var(--fill-color);\n",
              "    }\n",
              "    90% {\n",
              "      border-color: transparent;\n",
              "      border-bottom-color: var(--fill-color);\n",
              "    }\n",
              "  }\n",
              "</style>\n",
              "\n",
              "  <script>\n",
              "    async function quickchart(key) {\n",
              "      const quickchartButtonEl =\n",
              "        document.querySelector('#' + key + ' button');\n",
              "      quickchartButtonEl.disabled = true;  // To prevent multiple clicks.\n",
              "      quickchartButtonEl.classList.add('colab-df-spinner');\n",
              "      try {\n",
              "        const charts = await google.colab.kernel.invokeFunction(\n",
              "            'suggestCharts', [key], {});\n",
              "      } catch (error) {\n",
              "        console.error('Error during call to suggestCharts:', error);\n",
              "      }\n",
              "      quickchartButtonEl.classList.remove('colab-df-spinner');\n",
              "      quickchartButtonEl.classList.add('colab-df-quickchart-complete');\n",
              "    }\n",
              "    (() => {\n",
              "      let quickchartButtonEl =\n",
              "        document.querySelector('#df-dc86aab6-2ac2-4233-9ed8-812b8002cd3b button');\n",
              "      quickchartButtonEl.style.display =\n",
              "        google.colab.kernel.accessAllowed ? 'block' : 'none';\n",
              "    })();\n",
              "  </script>\n",
              "</div>\n",
              "\n",
              "    </div>\n",
              "  </div>\n"
            ],
            "application/vnd.google.colaboratory.intrinsic+json": {
              "type": "dataframe",
              "variable_name": "df",
              "summary": "{\n  \"name\": \"df\",\n  \"rows\": 1973,\n  \"fields\": [\n    {\n      \"column\": \"Review\",\n      \"properties\": {\n        \"dtype\": \"string\",\n        \"num_unique_values\": 1865,\n        \"samples\": [\n          \"This is a great beginners book. It's easy to read and follow along. Silver's other books are great to start out with as well. Other great starter books are \\\"Wicca\\\" by Scott Cunningham,\\\"Witch Crafting\\\" & \\\"Book of Shaddows\\\" by Phyllis Curott, these authors will help you get started very well. Also I recommend \\\"The Witches Almanac\\\" by Elizabeth Pepper, this is a witches must have on her shelf. Happy readings.....\\n\",\n          \"Blind Items has the same writing style as at least one of Rettenmund's other books (Boy Culture).  He goes on for pages and pages to describe something that could have been said in two paragraphs.  Kind of reminds me of the articles you read in the Sunday magazine section of your newspaper.  If you like this writing style, Rettenmund's books may be for you.  Personally it drove me crazy and I set the book down after the first few chapters\\n\",\n          \"I am at the mid-point of the book and will likely post another review when I am done. [...] The authors give the history and motivation and design decisions behind HLA. They also give many good examples, [...], allow you to get a really good feel for the important concepts of HLA by running an actual federation. One thing I will be looking for is the impact of the architecture on simulation performance, scalability in practice (as opposed to in theory), and how is HLA likely to evolve over the next couple decades. \\nI don't know yet whether the book is enough for you to create your first federation. If you really have NO background at all in simulation, you will still get a lot out of the first couple of chapters, plus the many references to articles written on the subject, but don't expect to find the other chapters easy. Using my background in simulation systems, I can say that HLA seems to have been very well thought out, based on real-life simulation systems, and is therefore not trivial. But that's what makes it interesting, and the book so far lives up to that\\n\"\n        ],\n        \"semantic_type\": \"\",\n        \"description\": \"\"\n      }\n    },\n    {\n      \"column\": \"Positive Review\",\n      \"properties\": {\n        \"dtype\": \"boolean\",\n        \"num_unique_values\": 2,\n        \"samples\": [\n          false,\n          true\n        ],\n        \"semantic_type\": \"\",\n        \"description\": \"\"\n      }\n    }\n  ]\n}"
            }
          },
          "metadata": {},
          "execution_count": 5
        }
      ]
    },
    {
      "cell_type": "markdown",
      "source": [
        "## Defining the ML Problem"
      ],
      "metadata": {
        "id": "rKrLXhn7OPjz"
      }
    },
    {
      "cell_type": "markdown",
      "source": [
        "I will be predicting if a given book review is positive or negative. The label is Positive Review. This is a supervised binary classification problem. Because this is a NLP, there is only one feature column, 'Review'. This problem is important because it reduces the need to manually read and analyze each review. This automation can help in many ways, but especially in getting quicker feedback about the book from the target audience and/or customers."
      ],
      "metadata": {
        "id": "OT2pCjNEOffH"
      }
    },
    {
      "cell_type": "markdown",
      "source": [
        "## Data Preparation"
      ],
      "metadata": {
        "id": "o_1mSzumOnyi"
      }
    },
    {
      "cell_type": "markdown",
      "source": [
        "To prepare the data, I will check if there are any missing values. With this dataset and the defined problem, finding/replacing outliers, renaming features/labels, etc. do not apply. Instead, I will check for a class imbalance, and preprocess the data by transforming text into numerical features using word embeddings."
      ],
      "metadata": {
        "id": "ZPzfK2bTOuoU"
      }
    },
    {
      "cell_type": "code",
      "source": [
        "#check for any null values\n",
        "df.isnull().values.any()"
      ],
      "metadata": {
        "colab": {
          "base_uri": "https://localhost:8080/"
        },
        "id": "FtdhY53YOvA3",
        "outputId": "abe8c3ca-59ba-41ca-fe68-1a3e5c4a297f"
      },
      "execution_count": 6,
      "outputs": [
        {
          "output_type": "execute_result",
          "data": {
            "text/plain": [
              "False"
            ]
          },
          "metadata": {},
          "execution_count": 6
        }
      ]
    },
    {
      "cell_type": "code",
      "source": [
        "#check for class imbalance\n",
        "x_axis=['False', 'True']\n",
        "y_axis = df['Positive Review'].value_counts()\n",
        "plt.bar(x_axis, y_axis)\n",
        "plt.xlabel('Label -- Negative or Positive Review')\n",
        "plt.ylabel('Number of Reviews')\n",
        "plt.title('Barplot of Label Distribution Between Classes')"
      ],
      "metadata": {
        "colab": {
          "base_uri": "https://localhost:8080/",
          "height": 490
        },
        "id": "adiELemfO1rK",
        "outputId": "daeec12f-dcfa-4f7a-f460-9051cc50c2cf"
      },
      "execution_count": 7,
      "outputs": [
        {
          "output_type": "execute_result",
          "data": {
            "text/plain": [
              "Text(0.5, 1.0, 'Barplot of Label Distribution Between Classes')"
            ]
          },
          "metadata": {},
          "execution_count": 7
        },
        {
          "output_type": "display_data",
          "data": {
            "text/plain": [
              "<Figure size 640x480 with 1 Axes>"
            ],
            "image/png": "[encoded data removed]"
          },
          "metadata": {}
        }
      ]
    },
    {
      "cell_type": "markdown",
      "source": [
        "The classes are well balanced. The False label indicates a Negative review (it is false that the reveiw is Positive) and the True label indicates a Positive review."
      ],
      "metadata": {
        "id": "vmXJVLTDO-dk"
      }
    },
    {
      "cell_type": "markdown",
      "source": [
        "This is a binary classification NLP ML problem, so there is only one feature column, 'Review'. To prepare the data, I will first split it into training and testing sets, and then transform the data to numerical features using word embeddings. The model I have chosen is a Logistic Regression. I will construct the model using the LogisticRegression model object from Scikit Learn. I will analyze and improve its performance by iteratively testing different values for hyperparameter c. I will then use the best value in the final model."
      ],
      "metadata": {
        "id": "6OKFYothPUFR"
      }
    },
    {
      "cell_type": "code",
      "source": [
        "from sklearn.model_selection import train_test_split\n",
        "from sklearn.linear_model import LogisticRegression\n",
        "from sklearn.metrics import log_loss\n",
        "from sklearn.metrics import accuracy_score\n",
        "from sklearn.metrics import roc_auc_score\n",
        "import time"
      ],
      "metadata": {
        "id": "NrEfhGzNPVsT"
      },
      "execution_count": 8,
      "outputs": []
    },
    {
      "cell_type": "code",
      "source": [
        "# creating labeled examples\n",
        "y = df['Positive Review']\n",
        "X = df['Review']\n",
        "\n",
        "print(y.shape)\n",
        "print(X.shape)"
      ],
      "metadata": {
        "colab": {
          "base_uri": "https://localhost:8080/"
        },
        "id": "SIhGuqrHPdYF",
        "outputId": "0bb82f73-d1ff-44a7-9a5a-c81e2a878796"
      },
      "execution_count": 9,
      "outputs": [
        {
          "output_type": "stream",
          "name": "stdout",
          "text": [
            "(1973,)\n",
            "(1973,)\n"
          ]
        }
      ]
    },
    {
      "cell_type": "markdown",
      "source": [
        "### Preprocessing Text using Gensim"
      ],
      "metadata": {
        "id": "RDyUtOE2PkUv"
      }
    },
    {
      "cell_type": "markdown",
      "source": [
        "To transform the text data into numerical features, I will train the Word2Vec model using Gensim. I will preprocess the data using the Gensim simple_prepocess. This step removes stopwords, converts all words to lowercase, and splits the text into smaller segments."
      ],
      "metadata": {
        "id": "0wI_ikXrPpQK"
      }
    },
    {
      "cell_type": "code",
      "source": [
        "import gensim"
      ],
      "metadata": {
        "id": "ljVrS7jIPiBM"
      },
      "execution_count": 10,
      "outputs": []
    },
    {
      "cell_type": "code",
      "source": [
        "X_original = X\n",
        "X = X.apply(lambda row: gensim.utils.simple_preprocess(row))"
      ],
      "metadata": {
        "id": "kvlXBsVdPx9m"
      },
      "execution_count": 11,
      "outputs": []
    },
    {
      "cell_type": "code",
      "source": [
        "# creating testing and training sets\n",
        "X_train, X_test, y_train, y_test = train_test_split(X, y, train_size=.80, random_state=1234)\n",
        "\n",
        "X_train.head()"
      ],
      "metadata": {
        "colab": {
          "base_uri": "https://localhost:8080/",
          "height": 241
        },
        "id": "BkryUWDGP1hu",
        "outputId": "4d747a8d-02d0-4f73-c300-3a117ae35e75"
      },
      "execution_count": 12,
      "outputs": [
        {
          "output_type": "execute_result",
          "data": {
            "text/plain": [
              "1369    [as, my, brother, said, when, flipping, throug...\n",
              "1366    [cooper, book, is, yet, another, warm, and, fu...\n",
              "385     [have, many, robot, books, and, this, is, the,...\n",
              "750     [as, china, re, emerges, as, dominant, power, ...\n",
              "643     [have, been, huge, fan, of, michael, crichton,...\n",
              "Name: Review, dtype: object"
            ],
            "text/html": [
              "<div>\n",
              "<style scoped>\n",
              "    .dataframe tbody tr th:only-of-type {\n",
              "        vertical-align: middle;\n",
              "    }\n",
              "\n",
              "    .dataframe tbody tr th {\n",
              "        vertical-align: top;\n",
              "    }\n",
              "\n",
              "    .dataframe thead th {\n",
              "        text-align: right;\n",
              "    }\n",
              "</style>\n",
              "<table border=\"1\" class=\"dataframe\">\n",
              "  <thead>\n",
              "    <tr style=\"text-align: right;\">\n",
              "      <th></th>\n",
              "      <th>Review</th>\n",
              "    </tr>\n",
              "  </thead>\n",
              "  <tbody>\n",
              "    <tr>\n",
              "      <th>1369</th>\n",
              "      <td>[as, my, brother, said, when, flipping, throug...</td>\n",
              "    </tr>\n",
              "    <tr>\n",
              "      <th>1366</th>\n",
              "      <td>[cooper, book, is, yet, another, warm, and, fu...</td>\n",
              "    </tr>\n",
              "    <tr>\n",
              "      <th>385</th>\n",
              "      <td>[have, many, robot, books, and, this, is, the,...</td>\n",
              "    </tr>\n",
              "    <tr>\n",
              "      <th>750</th>\n",
              "      <td>[as, china, re, emerges, as, dominant, power, ...</td>\n",
              "    </tr>\n",
              "    <tr>\n",
              "      <th>643</th>\n",
              "      <td>[have, been, huge, fan, of, michael, crichton,...</td>\n",
              "    </tr>\n",
              "  </tbody>\n",
              "</table>\n",
              "</div><br><label><b>dtype:</b> object</label>"
            ]
          },
          "metadata": {},
          "execution_count": 12
        }
      ]
    },
    {
      "cell_type": "code",
      "source": [
        "# training the Word2Vec model using X_train\n",
        "word2vec_model = gensim.models.Word2Vec(X_train, vector_size=100, window=4, min_count=2)"
      ],
      "metadata": {
        "id": "iwEZ8YYvP6ju"
      },
      "execution_count": 13,
      "outputs": []
    },
    {
      "cell_type": "code",
      "source": [
        "vocabulary_size = len(word2vec_model.wv.key_to_index) #size of vocabulary\n",
        "print(vocabulary_size)"
      ],
      "metadata": {
        "colab": {
          "base_uri": "https://localhost:8080/"
        },
        "id": "YUOlYV3HQC8Z",
        "outputId": "88191f62-5b9a-40e1-b6af-0703f76798e3"
      },
      "execution_count": 14,
      "outputs": [
        {
          "output_type": "stream",
          "name": "stdout",
          "text": [
            "10354\n"
          ]
        }
      ]
    },
    {
      "cell_type": "code",
      "source": [
        "# creating feature vectors\n",
        "words = set(word2vec_model.wv.index_to_key)\n",
        "#transforming X_train set\n",
        "X_train_word_embeddings = np.array([np.array([word2vec_model.wv[word] for word in words if word in training_example])\n",
        "                        for training_example in X_train], dtype=object)\n",
        "\n",
        "#transforming X_test set\n",
        "X_test_word_embeddings = np.array([np.array([word2vec_model.wv[word] for word in words if word in training_example])\n",
        "                        for training_example in X_test], dtype=object)"
      ],
      "metadata": {
        "id": "PwnRE_6KQK4s"
      },
      "execution_count": 15,
      "outputs": []
    },
    {
      "cell_type": "code",
      "source": [
        "# adjusting vectors so that there is a consistent number of features per example\n",
        "X_train_feature_vector = []\n",
        "for w in X_train_word_embeddings:\n",
        "    if w.size:\n",
        "        X_train_feature_vector.append(w.mean(axis=0))\n",
        "    else:\n",
        "        X_train_feature_vector.append(np.zeros(100, dtype=float))\n",
        "\n",
        "X_test_feature_vector = []\n",
        "for w in X_test_word_embeddings:\n",
        "    if w.size:\n",
        "        X_test_feature_vector.append(w.mean(axis=0))\n",
        "    else:\n",
        "        X_test_feature_vector.append(np.zeros(100, dtype=float))"
      ],
      "metadata": {
        "id": "_3hrMwXaQTRJ"
      },
      "execution_count": 16,
      "outputs": []
    },
    {
      "cell_type": "markdown",
      "source": [
        "## Fitting and Evaluating the Logistic Regression Model"
      ],
      "metadata": {
        "id": "tv4DHtSAPHK0"
      }
    },
    {
      "cell_type": "markdown",
      "source": [
        "The text data has been preprocessed and transformed into numerical features, so we can proceed to constructing the Logistic Regssion model."
      ],
      "metadata": {
        "id": "962x_CJSQpt1"
      }
    },
    {
      "cell_type": "code",
      "source": [
        "# creating and fitting the model\n",
        "def train_test_LR(X_train, y_train, X_test, y_test, c=1):\n",
        "    # model object\n",
        "    model = LogisticRegression(C=c)\n",
        "    model.fit(X_train_feature_vector, y_train)\n",
        "\n",
        "    # make predictions on transformed test data using predict_proba()\n",
        "    probability_predictions = model.predict_proba(X_test_feature_vector)[:,1]\n",
        "\n",
        "    # make predictions on transformed test data using predict()\n",
        "    class_label_predictions = model.predict(X_test_feature_vector)\n",
        "\n",
        "    # log loss\n",
        "    l_loss = log_loss(y_test, probability_predictions)\n",
        "\n",
        "    # accuracy\n",
        "    acc_score = accuracy_score(y_test, class_label_predictions)\n",
        "    print('Accuracy: ' + str(acc_score))\n",
        "\n",
        "    return [l_loss, acc_score]"
      ],
      "metadata": {
        "id": "mpM9edRSPxdm"
      },
      "execution_count": 17,
      "outputs": []
    },
    {
      "cell_type": "code",
      "source": [
        "# evaluating the model using different hyperparameters\n",
        "cs = [10**i for i in range(-10,10)]\n",
        "for C in cs:\n",
        "    result = train_test_LR(X_train, y_train, X_test, y_test, c=C)\n",
        "    print('Log loss and accuracy scores for c: ' + str(C) + ', ' + str(result[1]) + ', ' + str(result[1]))"
      ],
      "metadata": {
        "colab": {
          "base_uri": "https://localhost:8080/"
        },
        "id": "WPnsi7ggPcpK",
        "outputId": "23b7a7d5-1170-470b-b386-569384fd6fc1"
      },
      "execution_count": 18,
      "outputs": [
        {
          "output_type": "stream",
          "name": "stdout",
          "text": [
            "Accuracy: 0.4962025316455696\n",
            "Log loss and accuracy scores for c: 1e-10, 0.4962025316455696, 0.4962025316455696\n",
            "Accuracy: 0.4962025316455696\n",
            "Log loss and accuracy scores for c: 1e-09, 0.4962025316455696, 0.4962025316455696\n",
            "Accuracy: 0.4962025316455696\n",
            "Log loss and accuracy scores for c: 1e-08, 0.4962025316455696, 0.4962025316455696\n",
            "Accuracy: 0.4962025316455696\n",
            "Log loss and accuracy scores for c: 1e-07, 0.4962025316455696, 0.4962025316455696\n",
            "Accuracy: 0.4962025316455696\n",
            "Log loss and accuracy scores for c: 1e-06, 0.4962025316455696, 0.4962025316455696\n",
            "Accuracy: 0.4962025316455696\n",
            "Log loss and accuracy scores for c: 1e-05, 0.4962025316455696, 0.4962025316455696\n",
            "Accuracy: 0.4962025316455696\n",
            "Log loss and accuracy scores for c: 0.0001, 0.4962025316455696, 0.4962025316455696\n",
            "Accuracy: 0.4962025316455696\n",
            "Log loss and accuracy scores for c: 0.001, 0.4962025316455696, 0.4962025316455696\n",
            "Accuracy: 0.579746835443038\n",
            "Log loss and accuracy scores for c: 0.01, 0.579746835443038, 0.579746835443038\n",
            "Accuracy: 0.6430379746835443\n",
            "Log loss and accuracy scores for c: 0.1, 0.6430379746835443, 0.6430379746835443\n",
            "Accuracy: 0.6860759493670886\n",
            "Log loss and accuracy scores for c: 1, 0.6860759493670886, 0.6860759493670886\n"
          ]
        },
        {
          "output_type": "stream",
          "name": "stderr",
          "text": [
            "/usr/local/lib/python3.10/dist-packages/sklearn/linear_model/_logistic.py:460: ConvergenceWarning: lbfgs failed to converge (status=1):\n",
            "STOP: TOTAL NO. of ITERATIONS REACHED LIMIT.\n",
            "\n",
            "Increase the number of iterations (max_iter) or scale the data as shown in:\n",
            "    https://scikit-learn.org/stable/modules/preprocessing.html\n",
            "Please also refer to the documentation for alternative solver options:\n",
            "    https://scikit-learn.org/stable/modules/linear_model.html#logistic-regression\n",
            "  n_iter_i = _check_optimize_result(\n"
          ]
        },
        {
          "output_type": "stream",
          "name": "stdout",
          "text": [
            "Accuracy: 0.6962025316455697\n",
            "Log loss and accuracy scores for c: 10, 0.6962025316455697, 0.6962025316455697\n"
          ]
        },
        {
          "output_type": "stream",
          "name": "stderr",
          "text": [
            "/usr/local/lib/python3.10/dist-packages/sklearn/linear_model/_logistic.py:460: ConvergenceWarning: lbfgs failed to converge (status=1):\n",
            "STOP: TOTAL NO. of ITERATIONS REACHED LIMIT.\n",
            "\n",
            "Increase the number of iterations (max_iter) or scale the data as shown in:\n",
            "    https://scikit-learn.org/stable/modules/preprocessing.html\n",
            "Please also refer to the documentation for alternative solver options:\n",
            "    https://scikit-learn.org/stable/modules/linear_model.html#logistic-regression\n",
            "  n_iter_i = _check_optimize_result(\n"
          ]
        },
        {
          "output_type": "stream",
          "name": "stdout",
          "text": [
            "Accuracy: 0.7063291139240506\n",
            "Log loss and accuracy scores for c: 100, 0.7063291139240506, 0.7063291139240506\n"
          ]
        },
        {
          "output_type": "stream",
          "name": "stderr",
          "text": [
            "/usr/local/lib/python3.10/dist-packages/sklearn/linear_model/_logistic.py:460: ConvergenceWarning: lbfgs failed to converge (status=1):\n",
            "STOP: TOTAL NO. of ITERATIONS REACHED LIMIT.\n",
            "\n",
            "Increase the number of iterations (max_iter) or scale the data as shown in:\n",
            "    https://scikit-learn.org/stable/modules/preprocessing.html\n",
            "Please also refer to the documentation for alternative solver options:\n",
            "    https://scikit-learn.org/stable/modules/linear_model.html#logistic-regression\n",
            "  n_iter_i = _check_optimize_result(\n"
          ]
        },
        {
          "output_type": "stream",
          "name": "stdout",
          "text": [
            "Accuracy: 0.7215189873417721\n",
            "Log loss and accuracy scores for c: 1000, 0.7215189873417721, 0.7215189873417721\n"
          ]
        },
        {
          "output_type": "stream",
          "name": "stderr",
          "text": [
            "/usr/local/lib/python3.10/dist-packages/sklearn/linear_model/_logistic.py:460: ConvergenceWarning: lbfgs failed to converge (status=1):\n",
            "STOP: TOTAL NO. of ITERATIONS REACHED LIMIT.\n",
            "\n",
            "Increase the number of iterations (max_iter) or scale the data as shown in:\n",
            "    https://scikit-learn.org/stable/modules/preprocessing.html\n",
            "Please also refer to the documentation for alternative solver options:\n",
            "    https://scikit-learn.org/stable/modules/linear_model.html#logistic-regression\n",
            "  n_iter_i = _check_optimize_result(\n",
            "/usr/local/lib/python3.10/dist-packages/sklearn/linear_model/_logistic.py:460: ConvergenceWarning: lbfgs failed to converge (status=1):\n",
            "STOP: TOTAL NO. of ITERATIONS REACHED LIMIT.\n",
            "\n",
            "Increase the number of iterations (max_iter) or scale the data as shown in:\n",
            "    https://scikit-learn.org/stable/modules/preprocessing.html\n",
            "Please also refer to the documentation for alternative solver options:\n",
            "    https://scikit-learn.org/stable/modules/linear_model.html#logistic-regression\n",
            "  n_iter_i = _check_optimize_result(\n"
          ]
        },
        {
          "output_type": "stream",
          "name": "stdout",
          "text": [
            "Accuracy: 0.6759493670886076\n",
            "Log loss and accuracy scores for c: 10000, 0.6759493670886076, 0.6759493670886076\n",
            "Accuracy: 0.7037974683544304\n",
            "Log loss and accuracy scores for c: 100000, 0.7037974683544304, 0.7037974683544304\n"
          ]
        },
        {
          "output_type": "stream",
          "name": "stderr",
          "text": [
            "/usr/local/lib/python3.10/dist-packages/sklearn/linear_model/_logistic.py:460: ConvergenceWarning: lbfgs failed to converge (status=1):\n",
            "STOP: TOTAL NO. of ITERATIONS REACHED LIMIT.\n",
            "\n",
            "Increase the number of iterations (max_iter) or scale the data as shown in:\n",
            "    https://scikit-learn.org/stable/modules/preprocessing.html\n",
            "Please also refer to the documentation for alternative solver options:\n",
            "    https://scikit-learn.org/stable/modules/linear_model.html#logistic-regression\n",
            "  n_iter_i = _check_optimize_result(\n"
          ]
        },
        {
          "output_type": "stream",
          "name": "stdout",
          "text": [
            "Accuracy: 0.7164556962025317\n",
            "Log loss and accuracy scores for c: 1000000, 0.7164556962025317, 0.7164556962025317\n"
          ]
        },
        {
          "output_type": "stream",
          "name": "stderr",
          "text": [
            "/usr/local/lib/python3.10/dist-packages/sklearn/linear_model/_logistic.py:460: ConvergenceWarning: lbfgs failed to converge (status=1):\n",
            "STOP: TOTAL NO. of ITERATIONS REACHED LIMIT.\n",
            "\n",
            "Increase the number of iterations (max_iter) or scale the data as shown in:\n",
            "    https://scikit-learn.org/stable/modules/preprocessing.html\n",
            "Please also refer to the documentation for alternative solver options:\n",
            "    https://scikit-learn.org/stable/modules/linear_model.html#logistic-regression\n",
            "  n_iter_i = _check_optimize_result(\n"
          ]
        },
        {
          "output_type": "stream",
          "name": "stdout",
          "text": [
            "Accuracy: 0.7139240506329114\n",
            "Log loss and accuracy scores for c: 10000000, 0.7139240506329114, 0.7139240506329114\n"
          ]
        },
        {
          "output_type": "stream",
          "name": "stderr",
          "text": [
            "/usr/local/lib/python3.10/dist-packages/sklearn/linear_model/_logistic.py:460: ConvergenceWarning: lbfgs failed to converge (status=1):\n",
            "STOP: TOTAL NO. of ITERATIONS REACHED LIMIT.\n",
            "\n",
            "Increase the number of iterations (max_iter) or scale the data as shown in:\n",
            "    https://scikit-learn.org/stable/modules/preprocessing.html\n",
            "Please also refer to the documentation for alternative solver options:\n",
            "    https://scikit-learn.org/stable/modules/linear_model.html#logistic-regression\n",
            "  n_iter_i = _check_optimize_result(\n"
          ]
        },
        {
          "output_type": "stream",
          "name": "stdout",
          "text": [
            "Accuracy: 0.7088607594936709\n",
            "Log loss and accuracy scores for c: 100000000, 0.7088607594936709, 0.7088607594936709\n",
            "Accuracy: 0.7189873417721518\n",
            "Log loss and accuracy scores for c: 1000000000, 0.7189873417721518, 0.7189873417721518\n"
          ]
        },
        {
          "output_type": "stream",
          "name": "stderr",
          "text": [
            "/usr/local/lib/python3.10/dist-packages/sklearn/linear_model/_logistic.py:460: ConvergenceWarning: lbfgs failed to converge (status=1):\n",
            "STOP: TOTAL NO. of ITERATIONS REACHED LIMIT.\n",
            "\n",
            "Increase the number of iterations (max_iter) or scale the data as shown in:\n",
            "    https://scikit-learn.org/stable/modules/preprocessing.html\n",
            "Please also refer to the documentation for alternative solver options:\n",
            "    https://scikit-learn.org/stable/modules/linear_model.html#logistic-regression\n",
            "  n_iter_i = _check_optimize_result(\n"
          ]
        }
      ]
    },
    {
      "cell_type": "code",
      "source": [
        "# final model\n",
        "# model object\n",
        "model = LogisticRegression(C=10000000)\n",
        "model.fit(X_train_feature_vector, y_train)\n",
        "\n",
        "# make predictions on transformed test data using predict_proba()\n",
        "probability_predictions = model.predict_proba(X_test_feature_vector)[:,1]\n",
        "\n",
        "# make predictions on transformed test data using predict()\n",
        "class_label_predictions = model.predict(X_test_feature_vector)\n",
        "\n",
        "# log loss\n",
        "l_loss = log_loss(y_test, probability_predictions)\n",
        "print('Log loss: ' + str(l_loss))\n",
        "\n",
        "# accuracy\n",
        "acc_score = accuracy_score(y_test, class_label_predictions)\n",
        "print('Accuracy: ' + str(acc_score))"
      ],
      "metadata": {
        "colab": {
          "base_uri": "https://localhost:8080/"
        },
        "id": "5JQm3KDbPJd7",
        "outputId": "a3e60759-388a-4eb0-b8c4-609c06b62b5e"
      },
      "execution_count": 20,
      "outputs": [
        {
          "output_type": "stream",
          "name": "stdout",
          "text": [
            "Log loss: 0.5844592435560431\n",
            "Accuracy: 0.7139240506329114\n"
          ]
        },
        {
          "output_type": "stream",
          "name": "stderr",
          "text": [
            "/usr/local/lib/python3.10/dist-packages/sklearn/linear_model/_logistic.py:460: ConvergenceWarning: lbfgs failed to converge (status=1):\n",
            "STOP: TOTAL NO. of ITERATIONS REACHED LIMIT.\n",
            "\n",
            "Increase the number of iterations (max_iter) or scale the data as shown in:\n",
            "    https://scikit-learn.org/stable/modules/preprocessing.html\n",
            "Please also refer to the documentation for alternative solver options:\n",
            "    https://scikit-learn.org/stable/modules/linear_model.html#logistic-regression\n",
            "  n_iter_i = _check_optimize_result(\n"
          ]
        }
      ]
    },
    {
      "cell_type": "markdown",
      "source": [
        "Now we can look at a review from the data set."
      ],
      "metadata": {
        "id": "8x8Z-MC7RcSH"
      }
    },
    {
      "cell_type": "code",
      "source": [
        "print('Review from example #100\\n')\n",
        "print(X_original[100])\n",
        "\n",
        "print('\\nPrediction: Is this review positive? {}\\n'.format(class_label_predictions[100]))\n",
        "\n",
        "print('Actual: Is this review positive? {}\\n'.format(y_test.to_numpy()[100]))"
      ],
      "metadata": {
        "colab": {
          "base_uri": "https://localhost:8080/"
        },
        "id": "WMAsnUXcReNX",
        "outputId": "ee9cbe21-862a-4eb8-9313-c6bef88a2ac5"
      },
      "execution_count": 21,
      "outputs": [
        {
          "output_type": "stream",
          "name": "stdout",
          "text": [
            "Review from example #100\n",
            "\n",
            "For those who endeavor to perfect fine art digital printmaking, this is the book to read.  It is a &quot;how to&quot; and so much more.  The book covers paper, ink, techniques, hand coloring and the practical application and intereaction of all of these variables.  The book is cogently written and elegantly displayed.  It is a must for anyone's library who wishes to expand their horizons in the digital printing arena.  Ms. Airey is a master of her craft and it shows\n",
            "\n",
            "\n",
            "Prediction: Is this review positive? True\n",
            "\n",
            "Actual: Is this review positive? True\n",
            "\n"
          ]
        }
      ]
    }
  ]
}